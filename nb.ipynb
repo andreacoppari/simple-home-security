{
 "cells": [
  {
   "cell_type": "code",
   "execution_count": 1,
   "metadata": {},
   "outputs": [
    {
     "name": "stdout",
     "output_type": "stream",
     "text": [
      "Available cameras: [0, 1, 2]\n"
     ]
    }
   ],
   "source": [
    "import cv2\n",
    "\n",
    "def list_cameras():\n",
    "    index = 0\n",
    "    arr = []\n",
    "    while True:\n",
    "        cap = cv2.VideoCapture(index)\n",
    "        if not cap.read()[0]:\n",
    "            break\n",
    "        else:\n",
    "            arr.append(index)\n",
    "        cap.release()\n",
    "        index += 1\n",
    "    return arr\n",
    "\n",
    "available_cameras = list_cameras()\n",
    "print(\"Available cameras:\", available_cameras)\n"
   ]
  }
 ],
 "metadata": {
  "kernelspec": {
   "display_name": "vevn",
   "language": "python",
   "name": "python3"
  },
  "language_info": {
   "codemirror_mode": {
    "name": "ipython",
    "version": 3
   },
   "file_extension": ".py",
   "mimetype": "text/x-python",
   "name": "python",
   "nbconvert_exporter": "python",
   "pygments_lexer": "ipython3",
   "version": "3.10.11"
  }
 },
 "nbformat": 4,
 "nbformat_minor": 2
}
